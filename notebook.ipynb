{
 "cells": [
  {
   "cell_type": "markdown",
   "id": "a8ac2eec",
   "metadata": {},
   "source": [
    "# Select website design using A/B testing"
   ]
  },
  {
   "cell_type": "markdown",
   "id": "749002e5",
   "metadata": {},
   "source": [
    "## Context"
   ]
  },
  {
   "cell_type": "markdown",
   "id": "0f924b30",
   "metadata": {},
   "source": [
    "The notebook is a entry in a Datacamp competition named \"Was a website redesign successful?\".\n",
    "It is structured as a data analysis report whose outline can be find on the side.\n",
    "\n",
    "The data analysis comprises an exploratory analysis and application of an A/B test, using a Z-test and conducting a power analysis.\n",
    "It can be used as a beginner tutorial for A/B testing."
   ]
  },
  {
   "cell_type": "markdown",
   "id": "edf42322",
   "metadata": {},
   "source": [
    "**Import libraries**"
   ]
  },
  {
   "cell_type": "code",
   "execution_count": null,
   "id": "ee039af2",
   "metadata": {},
   "outputs": [],
   "source": [
    "import pandas as pd\n",
    "import numpy as np\n",
    "import matplotlib.pyplot as plt\n",
    "from statsmodels.stats.power import NormalIndPower\n",
    "from scipy.stats import norm"
   ]
  },
  {
   "cell_type": "markdown",
   "id": "2c75f19b",
   "metadata": {},
   "source": [
    "## Introduction/Business Problem"
   ]
  },
  {
   "cell_type": "markdown",
   "id": "37f33657",
   "metadata": {},
   "source": [
    "We have been tasked with redesigning of the landing page. A new design should increase the number of people who click through and join your site.\n",
    "\n",
    "We will perform an A/B test to compare the initial user reception of the new landing page with and without a new set of images (three different designs) with the old design. Our metric will be the conversion rate and we will perform a Z-test.\n",
    "\n",
    "In the conclusions, we will povide our recomendation, alongside the expected improvement and probabilities of obtaining a false positive and a false negative for it."
   ]
  },
  {
   "cell_type": "markdown",
   "id": "dbad36da",
   "metadata": {},
   "source": [
    "## Data"
   ]
  },
  {
   "cell_type": "markdown",
   "id": "97157953",
   "metadata": {},
   "source": [
    "The data is saved in a single .csv file, named 'redesign.csv'."
   ]
  },
  {
   "cell_type": "code",
   "execution_count": null,
   "id": "c1f6bea0",
   "metadata": {},
   "outputs": [
    {
     "name": "stdout",
     "output_type": "stream",
     "text": [
      "<class 'pandas.core.frame.DataFrame'>\n",
      "RangeIndex: 40484 entries, 0 to 40483\n",
      "Data columns (total 3 columns):\n",
      " #   Column      Non-Null Count  Dtype \n",
      "---  ------      --------------  ----- \n",
      " 0   treatment   40484 non-null  object\n",
      " 1   new_images  40484 non-null  object\n",
      " 2   converted   40484 non-null  int64 \n",
      "dtypes: int64(1), object(2)\n",
      "memory usage: 949.0+ KB\n"
     ]
    }
   ],
   "source": [
    "df = pd.read_csv('data/redesign.csv')\n",
    "df.info()"
   ]
  },
  {
   "cell_type": "markdown",
   "id": "6347e2f0",
   "metadata": {},
   "source": [
    "The dataframe is composed of 3 columns and 40484 rows. The columns 'treatment' and 'new_images' are of type object while 'converted' is an int64. Moreover, there is no missing data in the dataframe. Datacamp shared the meaning of each column/variable: \n",
    "\n",
    "- 'treatment' - \"yes\" if the user saw the new version of the landing page, no otherwise.\n",
    "- 'new_images' - \"yes\" if the page used a new set of images, no otherwise.\n",
    "- 'converted' - 1 if the user joined the site, 0 otherwise."
   ]
  },
  {
   "cell_type": "markdown",
   "id": "f8b50d73",
   "metadata": {},
   "source": [
    "Each combination of 'treatment' and 'new_images' represents a group: \n",
    "1. \"no\" in 'treatment' and \"no\" in 'new_images' (control group)\n",
    "2. \"yes\" in 'treatment' and \"no\" in 'new_images' (experimental group)\n",
    "3. \"no\" in 'treatment' and \"yes\" in 'new_images' (experimental group)\n",
    "4. \"yes\" in 'treatment' and \"yes\" in 'new_images' (experimental group)"
   ]
  },
  {
   "cell_type": "code",
   "execution_count": null,
   "id": "2297e1dc",
   "metadata": {},
   "outputs": [],
   "source": [
    "groups = df.groupby(['treatment', 'new_images'])"
   ]
  },
  {
   "cell_type": "markdown",
   "id": "183d2eca",
   "metadata": {},
   "source": [
    "How is the data distributed? \n",
    "- Are the groups of similar size? \n",
    "- Does the probability of a user joining the site changes with its design?\n",
    "\n",
    "We can also confirm that each variable, for which only two values are possible, follows a binomial distribution. The density plots below show the distribution of each variable and indeed all variables follow binomial distributions. "
   ]
  },
  {
   "cell_type": "code",
   "execution_count": null,
   "id": "1c937a78",
   "metadata": {},
   "outputs": [
    {
     "data": {
      "image/png": "[encoded data removed]",
      "text/plain": [
       "<Figure size 432x288 with 1 Axes>"
      ]
     },
     "metadata": {
      "needs_background": "light"
     },
     "output_type": "display_data"
    },
    {
     "data": {
      "text/html": [
       "<div>\n",
       "<style scoped>\n",
       "    .dataframe tbody tr th:only-of-type {\n",
       "        vertical-align: middle;\n",
       "    }\n",
       "\n",
       "    .dataframe tbody tr th {\n",
       "        vertical-align: top;\n",
       "    }\n",
       "\n",
       "    .dataframe thead tr th {\n",
       "        text-align: left;\n",
       "    }\n",
       "\n",
       "    .dataframe thead tr:last-of-type th {\n",
       "        text-align: right;\n",
       "    }\n",
       "</style>\n",
       "<table border=\"1\" class=\"dataframe\">\n",
       "  <thead>\n",
       "    <tr>\n",
       "      <th></th>\n",
       "      <th></th>\n",
       "      <th colspan=\"3\" halign=\"left\">converted</th>\n",
       "    </tr>\n",
       "    <tr>\n",
       "      <th></th>\n",
       "      <th></th>\n",
       "      <th>count</th>\n",
       "      <th>mean</th>\n",
       "      <th>sum</th>\n",
       "    </tr>\n",
       "    <tr>\n",
       "      <th>treatment</th>\n",
       "      <th>new_images</th>\n",
       "      <th></th>\n",
       "      <th></th>\n",
       "      <th></th>\n",
       "    </tr>\n",
       "  </thead>\n",
       "  <tbody>\n",
       "    <tr>\n",
       "      <th rowspan=\"2\" valign=\"top\">no</th>\n",
       "      <th>no</th>\n",
       "      <td>10121</td>\n",
       "      <td>0.107104</td>\n",
       "      <td>1084</td>\n",
       "    </tr>\n",
       "    <tr>\n",
       "      <th>yes</th>\n",
       "      <td>10121</td>\n",
       "      <td>0.112538</td>\n",
       "      <td>1139</td>\n",
       "    </tr>\n",
       "    <tr>\n",
       "      <th rowspan=\"2\" valign=\"top\">yes</th>\n",
       "      <th>no</th>\n",
       "      <td>10121</td>\n",
       "      <td>0.120047</td>\n",
       "      <td>1215</td>\n",
       "    </tr>\n",
       "    <tr>\n",
       "      <th>yes</th>\n",
       "      <td>10121</td>\n",
       "      <td>0.113724</td>\n",
       "      <td>1151</td>\n",
       "    </tr>\n",
       "  </tbody>\n",
       "</table>\n",
       "</div>"
      ],
      "text/plain": [
       "                     converted                \n",
       "                         count      mean   sum\n",
       "treatment new_images                          \n",
       "no        no             10121  0.107104  1084\n",
       "          yes            10121  0.112538  1139\n",
       "yes       no             10121  0.120047  1215\n",
       "          yes            10121  0.113724  1151"
      ]
     },
     "execution_count": 4,
     "metadata": {},
     "output_type": "execute_result"
    }
   ],
   "source": [
    "groups['converted'].plot.kde()\n",
    "plt.legend()\n",
    "plt.show()\n",
    "\n",
    "summary = groups.agg({'converted':['count', 'mean', 'sum']})\n",
    "summary"
   ]
  },
  {
   "cell_type": "markdown",
   "id": "4ab6ac63",
   "metadata": {},
   "source": [
    "The groups have exactly the same size, 10121 rows. The probability of a user joining the site changes with the design, with the control group being the less sucessful. It seems that it was a good idea to redesign the website!\n",
    "\n",
    "However, the difference we want to measure is between 0.5 and 1.3%, which is very small."
   ]
  },
  {
   "cell_type": "markdown",
   "id": "ac6e4d7e",
   "metadata": {},
   "source": [
    "## Methodology\n",
    "\n",
    "### Summary\n",
    "\n",
    "We will use A/B testing to compare the performance of each new design with the control group, using the conversion rate as metric. For that we will conduct an one tailed Z-test with a significance level of 0.05.\n",
    "\n",
    "As part of the Z-test, we will execute a power analysis to check the probability of committing a type II error and calculate the lowest expected improvement with 95% of confidence."
   ]
  },
  {
   "cell_type": "markdown",
   "id": "365cd205",
   "metadata": {},
   "source": [
    "### Definition of the metric *conversion rate*\n",
    "\n",
    "We will use A/B testing to compare the performance of each experimental group with the control group. A common metric for A/B testing is the conversion rate, determined as\n",
    "\n",
    "\\begin{equation}\n",
    "CR=\\frac{n_{converted}}{n_{total}}\n",
    "\\end{equation}\n",
    "\n",
    "In this case, because the data is binary, the conversion rate is equal to the mean.\n",
    "\n",
    "### Definition of the hypothesis\n",
    "\n",
    "Since we are only interested in an increase of user subscriptions, we will use a one-tailed hypothesis test\n",
    "\n",
    "\\begin{equation}\n",
    "    \\begin{aligned}\n",
    "        H_0: p_1 - p_0 = 0\\\\\n",
    "        H_1: p_1 - p_0 > 0 \\\\\n",
    "    \\end{aligned}\n",
    "\\end{equation}\n",
    "\n",
    "where $p_1$ represents the conversion rate of an experimental group and $p_0$ represents the conversion rate of the control group. \n",
    "\n",
    "### General remarks of a Z-test\n",
    "\n",
    "We will use a z-test to test our hypothesis. We can do it because:\n",
    "\n",
    "- Sample sizes are equal;\n",
    "- Our samples have 10121 observations (if it was less than 30, we would use a t-test);\n",
    "- Observations are indendent from each other;\n",
    "- Binomial distributions can be approximated to normal distributions. Moreover, for large samples (more than 30 observations) this is not a \"hard\" requirement.\n",
    "\n",
    "When testing a hypothesis, we can incur two types of errors, type I and type II. Type I errors consist in rejecting the null hypothesis when the null hypothesis is true, while type II errors consist in failling to reject the null hypothesis when the null hypothesis is false. \n",
    "\n",
    "### Power Analysis\n",
    "\n",
    "To calculate the probability of a type II error ocurring, we will conduct a power analysis. In terms of probabilities, power is described as\n",
    "\n",
    "\\begin{equation}\n",
    "    \\begin{aligned}\n",
    "        Power &= P(\\text{reject } H_0 | H_1 \\text{ is true})\\\\\n",
    "        &= 1 - P(\\text{fail to reject } H_0 | H_1 \\text{ is true})\n",
    "    \\end{aligned}    \n",
    "\\end{equation}\n",
    "\n",
    "The library statsmodels.stats has some nice functions regarding power analysis and statistical tests. In this case we will use the NormalIndPower().power function, which requires the following parameters:\n",
    "\n",
    "- **Effect size**: Measures the difference between two samples. Cohen's d will be used:\n",
    "\\begin{equation}\n",
    "\\text{Cohen's d} = \\frac{\\bar{x_1} - \\bar{x_0}}{\\sqrt{\\frac{\\sigma_1^2 + \\sigma_2^2}{2}}}, \\bar{x_1} > \\bar{x_0}\n",
    "\\end{equation}\n",
    "- **nobs1**: Number of observations of sample 0 (control group). Here it is 10121.\n",
    "- **ratio**: Ratio of the number of observations in sample 1 relative to sample 0. Because the groups have the same size, it is 1.\n",
    "- **$\\alpha$**: The significance level is particularly relevant to calculate the probability of type I and type II errors. We will define $\\alpha$ as 0.05, which corresponds to a 95% confidence interval.\n",
    "\n",
    "A power analysis can provide some insights regarding the sample size. If needed, we can do a random sampling. "
   ]
  },
  {
   "cell_type": "code",
   "execution_count": null,
   "id": "e3c354e6",
   "metadata": {},
   "outputs": [],
   "source": [
    "def cohen_d(s0, s1):\n",
    "    std = np.sqrt((np.std(s0)**2 + np.std(s1)**2)/2)\n",
    "    mean = np.mean(s1) - np.mean(s0)\n",
    "    return np.abs(mean/std)\n",
    "\n",
    "def do_power(s0, s1, alpha, nobs1=10121, ratio=1.0, alternative='larger'):\n",
    "    effect_size = cohen_d(s0,s1)\n",
    "    return NormalIndPower().power(effect_size=effect_size, nobs1 = nobs1, alpha=alpha,\n",
    "                                  ratio=ratio, alternative=alternative)"
   ]
  },
  {
   "cell_type": "code",
   "execution_count": null,
   "id": "a95bfad3",
   "metadata": {},
   "outputs": [
    {
     "data": {
      "text/html": [
       "<div>\n",
       "<style scoped>\n",
       "    .dataframe tbody tr th:only-of-type {\n",
       "        vertical-align: middle;\n",
       "    }\n",
       "\n",
       "    .dataframe tbody tr th {\n",
       "        vertical-align: top;\n",
       "    }\n",
       "\n",
       "    .dataframe thead tr th {\n",
       "        text-align: left;\n",
       "    }\n",
       "\n",
       "    .dataframe thead tr:last-of-type th {\n",
       "        text-align: right;\n",
       "    }\n",
       "</style>\n",
       "<table border=\"1\" class=\"dataframe\">\n",
       "  <thead>\n",
       "    <tr>\n",
       "      <th></th>\n",
       "      <th></th>\n",
       "      <th colspan=\"4\" halign=\"left\">converted</th>\n",
       "    </tr>\n",
       "    <tr>\n",
       "      <th></th>\n",
       "      <th></th>\n",
       "      <th>count</th>\n",
       "      <th>mean</th>\n",
       "      <th>sum</th>\n",
       "      <th>power</th>\n",
       "    </tr>\n",
       "    <tr>\n",
       "      <th>treatment</th>\n",
       "      <th>new_images</th>\n",
       "      <th></th>\n",
       "      <th></th>\n",
       "      <th></th>\n",
       "      <th></th>\n",
       "    </tr>\n",
       "  </thead>\n",
       "  <tbody>\n",
       "    <tr>\n",
       "      <th rowspan=\"2\" valign=\"top\">no</th>\n",
       "      <th>no</th>\n",
       "      <td>10121</td>\n",
       "      <td>0.107104</td>\n",
       "      <td>1084</td>\n",
       "      <td></td>\n",
       "    </tr>\n",
       "    <tr>\n",
       "      <th>yes</th>\n",
       "      <td>10121</td>\n",
       "      <td>0.112538</td>\n",
       "      <td>1139</td>\n",
       "      <td>0.341483</td>\n",
       "    </tr>\n",
       "    <tr>\n",
       "      <th rowspan=\"2\" valign=\"top\">yes</th>\n",
       "      <th>no</th>\n",
       "      <td>10121</td>\n",
       "      <td>0.120047</td>\n",
       "      <td>1215</td>\n",
       "      <td>0.895739</td>\n",
       "    </tr>\n",
       "    <tr>\n",
       "      <th>yes</th>\n",
       "      <td>10121</td>\n",
       "      <td>0.113724</td>\n",
       "      <td>1151</td>\n",
       "      <td>0.443471</td>\n",
       "    </tr>\n",
       "  </tbody>\n",
       "</table>\n",
       "</div>"
      ],
      "text/plain": [
       "                     converted                          \n",
       "                         count      mean   sum     power\n",
       "treatment new_images                                    \n",
       "no        no             10121  0.107104  1084          \n",
       "          yes            10121  0.112538  1139  0.341483\n",
       "yes       no             10121  0.120047  1215  0.895739\n",
       "          yes            10121  0.113724  1151  0.443471"
      ]
     },
     "execution_count": 6,
     "metadata": {},
     "output_type": "execute_result"
    }
   ],
   "source": [
    "alpha = 0.05\n",
    "summary[('converted', 'power')] = \"\"\n",
    "\n",
    "group_ctrl = groups.get_group((\"no\", \"no\"))\n",
    "\n",
    "for key in list(groups.groups.keys())[1:]:\n",
    "    group_exp = groups.get_group(key)\n",
    "    power = do_power(group_ctrl['converted'], group_exp['converted'], alpha)\n",
    "    summary.loc[key, ('converted', 'power')] = power   \n",
    "    \n",
    "summary"
   ]
  },
  {
   "cell_type": "markdown",
   "id": "bee9c34a",
   "metadata": {},
   "source": [
    "Tipically, a power level of 0.8 is a good value. The group (yes, no) is the only with a larger value than 0.8. \n",
    "As for the size of the samples, ideally they should be even larger. As a result, we will use the whole samples."
   ]
  },
  {
   "cell_type": "markdown",
   "id": "553e5250",
   "metadata": {},
   "source": [
    "### Z-test\n",
    "\n",
    "The significance level, $\\alpha$, we choose 0.05. We will determine the Z value corresponding to 1-0.05 (if it was a two tailed hypothesis we would find the Z corresponding to 1-0.05/2). We will call it $Z_\\alpha$.\n",
    "\n",
    "Then, we will calculate the Z of our hypothesis as\n",
    "\n",
    "\\begin{equation}\n",
    "    \\begin{aligned}\n",
    "        Z &= \\frac{p_1 - p_0 - \\delta} {\\sqrt{\\frac{\\sigma_1^2}{n_1} + \\frac{\\sigma_0^2}{n_0}}}\n",
    "    \\end{aligned}    \n",
    "\\end{equation}\n",
    "\n",
    "where $\\delta$ is the value on the right side of the hypothesis (here 0).\n",
    "\n",
    "If Z $\\geq Z_\\alpha$, then we reject the null hypothesis. In that case we will calculate the lower bound of the 95% confidence interval. \n",
    "\n",
    "The lower bound of the confidence interval is calculated as\n",
    "\n",
    "\\begin{equation}\n",
    "    \\begin{aligned}\n",
    "        \\text{lower bound} = (p_1 - p_0) - Z_\\alpha {\\sqrt{\\frac{\\sigma_1^2}{n_1} + \\frac{\\sigma_0^2}{n_0}}}\n",
    "    \\end{aligned}    \n",
    "\\end{equation}"
   ]
  },
  {
   "cell_type": "code",
   "execution_count": null,
   "id": "6fc565c4",
   "metadata": {},
   "outputs": [],
   "source": [
    "def do_parameters(g_exp,g_ctrl):\n",
    "    p1 = g_exp[\"converted\"].mean()\n",
    "    sigma1 = g_exp[\"converted\"].std()\n",
    "    n1 = g_exp[\"converted\"].count()\n",
    "    \n",
    "    p0 = g_ctrl[\"converted\"].mean()\n",
    "    sigma0 = g_ctrl[\"converted\"].std()\n",
    "    n0 = g_ctrl[\"converted\"].count()\n",
    "    \n",
    "    return [p1, sigma1, n1], [p0, sigma0, n0]\n",
    "\n",
    "\n",
    "def do_zscore(g_exp,g_ctrl, val=0):\n",
    "    \n",
    "    exp, ctrl = do_parameters(g_exp,g_ctrl)\n",
    "    \n",
    "    return (exp[0] - ctrl[0] - val)/(np.sqrt(exp[1]**2/exp[2] + ctrl[1]**2/ctrl[2]))\n",
    "\n",
    "def do_ci(g_exp, g_ctrl, Z):\n",
    "    exp, ctrl = do_parameters(g_exp,g_ctrl)\n",
    "    #upper = (exp[0] - ctrl[0]) + Z * (np.sqrt(exp[1]**2/exp[2] + ctrl[1]**2/ctrl[2]))\n",
    "    lower = (exp[0] - ctrl[0]) - Z * (np.sqrt(exp[1]**2/exp[2] + ctrl[1]**2/ctrl[2]))\n",
    "    return lower"
   ]
  },
  {
   "cell_type": "code",
   "execution_count": null,
   "id": "c4cd9fdc",
   "metadata": {},
   "outputs": [
    {
     "name": "stdout",
     "output_type": "stream",
     "text": [
      "z_alpha: 1.6448536269514722\n"
     ]
    },
    {
     "data": {
      "text/html": [
       "<div>\n",
       "<style scoped>\n",
       "    .dataframe tbody tr th:only-of-type {\n",
       "        vertical-align: middle;\n",
       "    }\n",
       "\n",
       "    .dataframe tbody tr th {\n",
       "        vertical-align: top;\n",
       "    }\n",
       "\n",
       "    .dataframe thead tr th {\n",
       "        text-align: left;\n",
       "    }\n",
       "\n",
       "    .dataframe thead tr:last-of-type th {\n",
       "        text-align: right;\n",
       "    }\n",
       "</style>\n",
       "<table border=\"1\" class=\"dataframe\">\n",
       "  <thead>\n",
       "    <tr>\n",
       "      <th></th>\n",
       "      <th></th>\n",
       "      <th colspan=\"5\" halign=\"left\">converted</th>\n",
       "    </tr>\n",
       "    <tr>\n",
       "      <th></th>\n",
       "      <th></th>\n",
       "      <th>count</th>\n",
       "      <th>mean</th>\n",
       "      <th>sum</th>\n",
       "      <th>power</th>\n",
       "      <th>zscore</th>\n",
       "    </tr>\n",
       "    <tr>\n",
       "      <th>treatment</th>\n",
       "      <th>new_images</th>\n",
       "      <th></th>\n",
       "      <th></th>\n",
       "      <th></th>\n",
       "      <th></th>\n",
       "      <th></th>\n",
       "    </tr>\n",
       "  </thead>\n",
       "  <tbody>\n",
       "    <tr>\n",
       "      <th rowspan=\"2\" valign=\"top\">no</th>\n",
       "      <th>no</th>\n",
       "      <td>10121</td>\n",
       "      <td>0.107104</td>\n",
       "      <td>1084</td>\n",
       "      <td></td>\n",
       "      <td></td>\n",
       "    </tr>\n",
       "    <tr>\n",
       "      <th>yes</th>\n",
       "      <td>10121</td>\n",
       "      <td>0.112538</td>\n",
       "      <td>1139</td>\n",
       "      <td>0.341483</td>\n",
       "      <td>1.236372</td>\n",
       "    </tr>\n",
       "    <tr>\n",
       "      <th rowspan=\"2\" valign=\"top\">yes</th>\n",
       "      <th>no</th>\n",
       "      <td>10121</td>\n",
       "      <td>0.120047</td>\n",
       "      <td>1215</td>\n",
       "      <td>0.895739</td>\n",
       "      <td>2.902351</td>\n",
       "    </tr>\n",
       "    <tr>\n",
       "      <th>yes</th>\n",
       "      <td>10121</td>\n",
       "      <td>0.113724</td>\n",
       "      <td>1151</td>\n",
       "      <td>0.443471</td>\n",
       "      <td>1.502605</td>\n",
       "    </tr>\n",
       "  </tbody>\n",
       "</table>\n",
       "</div>"
      ],
      "text/plain": [
       "                     converted                                    \n",
       "                         count      mean   sum     power    zscore\n",
       "treatment new_images                                              \n",
       "no        no             10121  0.107104  1084                    \n",
       "          yes            10121  0.112538  1139  0.341483  1.236372\n",
       "yes       no             10121  0.120047  1215  0.895739  2.902351\n",
       "          yes            10121  0.113724  1151  0.443471  1.502605"
      ]
     },
     "execution_count": 8,
     "metadata": {},
     "output_type": "execute_result"
    }
   ],
   "source": [
    "z_alpha = norm.ppf(1-alpha)\n",
    "print(\"z_alpha: {}\".format(z_alpha))\n",
    "summary[('converted', 'zscore')] = \"\"\n",
    "\n",
    "group_ctrl = groups.get_group((\"no\", \"no\"))\n",
    "\n",
    "for key in list(groups.groups.keys())[1:]:\n",
    "    group_exp = groups.get_group(key)\n",
    "    zscore = do_zscore(group_exp, group_ctrl)\n",
    "    summary.loc[key, ('converted', 'zscore')] = zscore   \n",
    "    \n",
    "summary"
   ]
  },
  {
   "cell_type": "markdown",
   "id": "d248afa1",
   "metadata": {},
   "source": [
    "We can only discard the null hypothesis for the group (yes, no)."
   ]
  },
  {
   "cell_type": "code",
   "execution_count": null,
   "id": "c42e8760",
   "metadata": {},
   "outputs": [
    {
     "name": "stdout",
     "output_type": "stream",
     "text": [
      "The improvement of the design (yes, no) in relation to the control group, with 95% of confidence, is 0.56%.\n",
      "\n",
      "For the design (yes, no), the probability of commiting a type error I is 5.0%.\n",
      "\n",
      "For the design (yes, no), the probability of commiting a type error II is 10.43%.\n"
     ]
    }
   ],
   "source": [
    "g_ctrl = groups.get_group((\"no\", \"no\"))\n",
    "g_exp = groups.get_group((\"yes\", \"no\"))\n",
    "\n",
    "lower = np.round(do_ci(g_exp, g_ctrl, z_alpha) * 100, 2)\n",
    "\n",
    "print(\"The improvement of the design (yes, no) in relation to the control group, \\\n",
    "with 95% of confidence, is {}%.\".format(lower))\n",
    "\n",
    "print(\"\\nFor the design (yes, no), the probability of commiting a type error I is {}%.\".format(alpha*100))\n",
    "\n",
    "print(\"\\nFor the design (yes, no), the probability of commiting a type error II \\\n",
    "is {}%.\".format(np.round( (1 - summary.loc[(\"yes\", \"no\"), (\"converted\", \"power\")]) * 100, 2)))"
   ]
  },
  {
   "cell_type": "markdown",
   "id": "86032d96",
   "metadata": {},
   "source": [
    "## Conclusions\n",
    "\n",
    "We performed an A/B test to compare the performance of three new designs of our landing page with the old design. \n",
    "We verified, with 95% of confidence, that when an user sees the new version of the landing page with the old images, \n",
    "the chances of them joining the site improve at least 0.56% in relation to the old design. Moreover, the probabilities of obtaining a false positive and a false negative are relatively small, with values of 5.00% and 10.43%, respectively. \n",
    "\n",
    "It is our recommendation that we use the new version of the landing page with the old images."
   ]
  }
 ],
 "metadata": {
  "kernelspec": {
   "display_name": "Python 3 (ipykernel)",
   "language": "python",
   "name": "python3"
  },
  "language_info": {
   "codemirror_mode": {
    "name": "ipython",
    "version": 3
   },
   "file_extension": ".py",
   "mimetype": "text/x-python",
   "name": "python",
   "nbconvert_exporter": "python",
   "pygments_lexer": "ipython3",
   "version": "3.8.10"
  }
 },
 "nbformat": 4,
 "nbformat_minor": 5
}
